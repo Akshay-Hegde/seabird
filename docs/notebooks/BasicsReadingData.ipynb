{
 "cells": [
  {
   "cell_type": "markdown",
   "metadata": {},
   "source": [
    "# Reading CTD data with PySeabird"
   ]
  },
  {
   "cell_type": "markdown",
   "metadata": {},
   "source": [
    "## Author: Guilherme Castelão"
   ]
  },
  {
   "cell_type": "markdown",
   "metadata": {},
   "source": [
    "pySeabird is a package to parse/load CTD data files. It should be an easy task but the problem is that the format have been changing along the time. Work with multiple ships/cruises data requires first to understand each file, to normalize it into a common format for only than start your analysis. That can still be done with few general regular expression rules, but I would rather use strict rules. If I'm loading hundreds or thousands of profiles, I want to be sure that no mistake passed by. I rather ignore a file in doubt and warn it, than belive that it was loaded right and be part of my analysis.\n",
    "\n",
    "With that in mind, I wrote this package with the ability to load multiple rules, so new rules can be added without change the main engine.\n",
    "\n",
    "For more information, check the documentatio"
   ]
  },
  {
   "cell_type": "code",
   "execution_count": 1,
   "metadata": {
    "collapsed": false
   },
   "outputs": [],
   "source": [
    "%matplotlib inline\n",
    "\n",
    "from seabird.cnv import fCNV"
   ]
  },
  {
   "cell_type": "markdown",
   "metadata": {},
   "source": [
    "Let's first download an example file with some CTD data"
   ]
  },
  {
   "cell_type": "code",
   "execution_count": 2,
   "metadata": {
    "collapsed": false
   },
   "outputs": [
    {
     "name": "stdout",
     "output_type": "stream",
     "text": [
      "--2016-09-04 21:41:55--  https://raw.githubusercontent.com/castelao/seabird/master/tests/data/CTD/dPIRX003.cnv\n",
      "Resolving raw.githubusercontent.com... 151.101.24.133\n",
      "Connecting to raw.githubusercontent.com|151.101.24.133|:443... connected.\n",
      "HTTP request sent, awaiting response... 200 OK\n",
      "Length: 47291 (46K) [text/plain]\n",
      "Saving to: ‘dPIRX003.cnv’\n",
      "\n",
      "dPIRX003.cnv        100%[===================>]  46.18K  --.-KB/s    in 0.04s   \n",
      "\n",
      "2016-09-04 21:41:55 (1.20 MB/s) - ‘dPIRX003.cnv’ saved [47291/47291]\n",
      "\n"
     ]
    }
   ],
   "source": [
    "!wget https://raw.githubusercontent.com/castelao/seabird/master/tests/data/CTD/dPIRX003.cnv"
   ]
  },
  {
   "cell_type": "code",
   "execution_count": 3,
   "metadata": {
    "collapsed": false
   },
   "outputs": [
    {
     "name": "stderr",
     "output_type": "stream",
     "text": [
      "DEBUG:root:Openning file: dPIRX003.cnv\n"
     ]
    }
   ],
   "source": [
    "profile = fCNV('dPIRX003.cnv')"
   ]
  },
  {
   "cell_type": "markdown",
   "metadata": {},
   "source": [
    "The profile dPIRX003.cnv.OK was loaded with the default rule cnv.yaml"
   ]
  },
  {
   "cell_type": "markdown",
   "metadata": {},
   "source": [
    "### The header (metadata)"
   ]
  },
  {
   "cell_type": "code",
   "execution_count": 4,
   "metadata": {
    "collapsed": false
   },
   "outputs": [
    {
     "data": {
      "text/plain": [
       "{'LATITUDE': 12.674333333333333,\n",
       " 'LONGITUDE': -38.00183333333333,\n",
       " u'bad_flag': '-9.990e-29',\n",
       " 'datetime': datetime.datetime(2008, 4, 2, 18, 52, 30),\n",
       " u'file_type': 'ascii',\n",
       " 'filename': 'dPIRX003.cnv',\n",
       " 'instrument_type': 'CTD',\n",
       " 'md5': '4b941b902a3aea7d99e1cf4c78c51877',\n",
       " u'nquan': '11',\n",
       " u'nvalues': '349',\n",
       " u'sbe_model': '9',\n",
       " u'seasave': 'Win32 V 5.37d',\n",
       " u'start_time': 'Apr 02 2008 18:52:30'}"
      ]
     },
     "execution_count": 4,
     "metadata": {},
     "output_type": "execute_result"
    }
   ],
   "source": [
    "profile.attributes"
   ]
  },
  {
   "cell_type": "markdown",
   "metadata": {},
   "source": [
    "The header is loaded into the .attributes as a dictionary. Note that the date was already converted into a datetime object.\n",
    "\n",
    "There is a new attribute, not found in the file, that is 'md5'. This is the MD5 Hash for the original file. This might be usefull to double check the inputs when reproducing some analysis.\n",
    "\n",
    "Since it's a dictionary, to extract the geographical coordinates, for example:"
   ]
  },
  {
   "cell_type": "code",
   "execution_count": 5,
   "metadata": {
    "collapsed": false
   },
   "outputs": [
    {
     "name": "stdout",
     "output_type": "stream",
     "text": [
      "The profile coordinates is latitude: 12.6743, and longitude: -38.0018\n"
     ]
    }
   ],
   "source": [
    "print \"The profile coordinates is latitude: %.4f, and longitude: %.4f\" % \\\n",
    "    (profile.attributes['LATITUDE'], profile.attributes['LONGITUDE'])"
   ]
  },
  {
   "cell_type": "markdown",
   "metadata": {},
   "source": [
    "### The data"
   ]
  },
  {
   "cell_type": "markdown",
   "metadata": {},
   "source": [
    "The object profile behaves like a dictionary with the data. So to check the available data one can just"
   ]
  },
  {
   "cell_type": "code",
   "execution_count": 6,
   "metadata": {
    "collapsed": false
   },
   "outputs": [
    {
     "name": "stdout",
     "output_type": "stream",
     "text": [
      "[u'timeS', u'PRES', u'TEMP', u'TEMP2', u'CNDC', u'CNDC2', u'potemperature', u'potemperature2', u'PSAL', u'PSAL2', 'flag']\n"
     ]
    }
   ],
   "source": [
    "print profile.keys()"
   ]
  },
  {
   "cell_type": "markdown",
   "metadata": {},
   "source": [
    "Each data returns as a masked array, hence all values equal to profile.attributes['bad_flag'] will return as a masked value"
   ]
  },
  {
   "cell_type": "code",
   "execution_count": 7,
   "metadata": {
    "collapsed": false
   },
   "outputs": [
    {
     "data": {
      "text/plain": [
       "masked_array(data = [15.7969 15.5144 15.4179 15.3232 15.1983 15.1154 15.076 15.0842 15.0535\n",
       " 15.0212 14.9611 14.8273 14.7881 14.7453 14.7223 14.7371 14.7438 14.7413\n",
       " 14.7404 -- 14.4535 14.3612 14.2561 14.2155 14.2098],\n",
       "             mask = [False False False False False False False False False False False False\n",
       " False False False False False False False  True False False False False\n",
       " False],\n",
       "       fill_value = -9.99e-29)"
      ]
     },
     "execution_count": 7,
     "metadata": {},
     "output_type": "execute_result"
    }
   ],
   "source": [
    "profile['TEMP2'][:25]"
   ]
  },
  {
   "cell_type": "markdown",
   "metadata": {},
   "source": [
    "As a regular masked array, let's check the mean and standard deviation between the two temperature sensors"
   ]
  },
  {
   "cell_type": "code",
   "execution_count": 8,
   "metadata": {
    "collapsed": false
   },
   "outputs": [
    {
     "name": "stdout",
     "output_type": "stream",
     "text": [
      "11.5807006135 1.5675053881\n",
      "11.5404211009 1.61107230384\n"
     ]
    }
   ],
   "source": [
    "print profile['TEMP'].mean(), profile['TEMP'].std()\n",
    "print profile['TEMP2'].mean(), profile['TEMP2'].std()"
   ]
  },
  {
   "cell_type": "code",
   "execution_count": 9,
   "metadata": {
    "collapsed": false
   },
   "outputs": [
    {
     "data": {
      "text/plain": [
       "<matplotlib.text.Text at 0x10c9abe90>"
      ]
     },
     "execution_count": 9,
     "metadata": {},
     "output_type": "execute_result"
    },
    {
     "data": {
      "image/png": "[encoded data removed]",
      "text/plain": [
       "<matplotlib.figure.Figure at 0x10c958f50>"
      ]
     },
     "metadata": {},
     "output_type": "display_data"
    }
   ],
   "source": [
    "from matplotlib import pyplot as plt\n",
    "\n",
    "plt.plot(profile['TEMP'], profile['PRES'],'b')\n",
    "plt.plot(profile['TEMP2'], profile['PRES'],'g')\n",
    "plt.gca().invert_yaxis()\n",
    "plt.xlabel('temperature')\n",
    "plt.ylabel('pressure')\n",
    "plt.title(profile.attributes['filename'])"
   ]
  },
  {
   "cell_type": "code",
   "execution_count": null,
   "metadata": {
    "collapsed": false
   },
   "outputs": [],
   "source": []
  }
 ],
 "metadata": {
  "kernelspec": {
   "display_name": "Python 2",
   "language": "python",
   "name": "python2"
  },
  "language_info": {
   "codemirror_mode": {
    "name": "ipython",
    "version": 2
   },
   "file_extension": ".py",
   "mimetype": "text/x-python",
   "name": "python",
   "nbconvert_exporter": "python",
   "pygments_lexer": "ipython2",
   "version": "2.7.11"
  }
 },
 "nbformat": 4,
 "nbformat_minor": 0
}
